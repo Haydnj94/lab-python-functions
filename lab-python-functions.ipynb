{
 "cells": [
  {
   "cell_type": "markdown",
   "id": "25d7736c-ba17-4aff-b6bb-66eba20fbf4e",
   "metadata": {},
   "source": [
    "# Lab | Functions"
   ]
  },
  {
   "cell_type": "markdown",
   "id": "8c0cdace-d134-4b5e-8759-0104c460e2d1",
   "metadata": {
    "tags": []
   },
   "source": [
    "## Exercise: Managing Customer Orders with Functions\n",
    "\n",
    "In the previous exercise, you improved the code for managing customer orders by using loops and flow control. Now, let's take it a step further and refactor the code by introducing functions.\n",
    "\n",
    "Follow the steps below to complete the exercise:\n",
    "\n",
    "1. Define a function named `initialize_inventory` that takes `products` as a parameter. Inside the function, implement the code for initializing the inventory dictionary using a loop and user input.\n",
    "\n",
    "2. Define a function named `get_customer_orders` that takes no parameters. Inside the function, implement the code for prompting the user to enter the product names using a loop. The function should return the `customer_orders` set.\n",
    "\n",
    "3. Define a function named `update_inventory` that takes `customer_orders` and `inventory` as parameters. Inside the function, implement the code for updating the inventory dictionary based on the customer orders.\n",
    "\n",
    "4. Define a function named `calculate_order_statistics` that takes `customer_orders` and `products` as parameters. Inside the function, implement the code for calculating the order statistics (total products ordered, and percentage of unique products ordered). The function should return these values.\n",
    "\n",
    "5. Define a function named `print_order_statistics` that takes `order_statistics` as a parameter. Inside the function, implement the code for printing the order statistics.\n",
    "\n",
    "6. Define a function named `print_updated_inventory` that takes `inventory` as a parameter. Inside the function, implement the code for printing the updated inventory.\n",
    "\n",
    "7. Call the functions in the appropriate sequence to execute the program and manage customer orders.\n",
    "\n",
    "Hints for functions:\n",
    "\n",
    "- Consider the input parameters required for each function and their return values.\n",
    "- Utilize function parameters and return values to transfer data between functions.\n",
    "- Test your functions individually to ensure they work correctly.\n",
    "\n",
    "\n"
   ]
  },
  {
   "cell_type": "code",
   "execution_count": 36,
   "id": "751c7a09-c377-4605-ab52-344df1961759",
   "metadata": {},
   "outputs": [
    {
     "name": "stdin",
     "output_type": "stream",
     "text": [
      "Enter the quantity of t-shirt:  5\n",
      "Enter the quantity of mug:  5\n",
      "Enter the quantity of hat:  5\n",
      "Enter the quantity of book:  5\n",
      "Enter the quantity of keychain:  5\n"
     ]
    }
   ],
   "source": [
    "products = [\"t-shirt\", \"mug\", \"hat\", \"book\", \"keychain\"]\n",
    "\n",
    "def initialize_inventory(products):\n",
    "    inventory = {}\n",
    "    for product in products:\n",
    "        quantity = int(input(f\"Enter the quantity of {product}: \"))\n",
    "        inventory[product] = quantity\n",
    "    \n",
    "    return inventory\n",
    "    \n",
    "calc_inventory = initialize_inventory(products)"
   ]
  },
  {
   "cell_type": "code",
   "execution_count": 38,
   "id": "e31c91a7-8723-44ee-9181-3d3ecc7f8e78",
   "metadata": {},
   "outputs": [
    {
     "name": "stdin",
     "output_type": "stream",
     "text": [
      "\n",
      "Enter the name of a product to order:  mug\n",
      "\n",
      "Do you want to add another product? (yes/no):  no\n"
     ]
    }
   ],
   "source": [
    "def get_customer_orders():\n",
    "    customer_orders = set()\n",
    "    \n",
    "    while True:\n",
    "        order = str(input(\"\\nEnter the name of a product to order: \"))\n",
    "        \n",
    "        if order in products:\n",
    "            customer_orders.add(order)\n",
    "        else:\n",
    "            print(f\"\\n{order} is not in the product list. Please choose from the available products.\")\n",
    "        another = input(\"\\nDo you want to add another product? (yes/no): \")\n",
    "        if another != 'yes':\n",
    "            break\n",
    "\n",
    "    return customer_orders\n",
    "\n",
    "customer_orders = get_customer_orders()"
   ]
  },
  {
   "cell_type": "code",
   "execution_count": 108,
   "id": "78af37c5-f201-407c-adfa-abe2dd4ed8ce",
   "metadata": {},
   "outputs": [
    {
     "name": "stdout",
     "output_type": "stream",
     "text": [
      "\n",
      "Remaining inventory\n",
      "\n",
      "\n"
     ]
    }
   ],
   "source": [
    "def update_inventory(customer_orders, inventory):\n",
    "    for item in customer_orders:\n",
    "        if inventory[item] > 0:\n",
    "            inventory[item] -= 1\n",
    "\n",
    "update_inventory(customer_orders, calc_inventory)"
   ]
  },
  {
   "cell_type": "code",
   "execution_count": 112,
   "id": "821e877c-f356-4aee-9802-1f0a72d4bbf3",
   "metadata": {},
   "outputs": [
    {
     "name": "stdout",
     "output_type": "stream",
     "text": [
      "\n",
      "Order Statistics:\n",
      "Total Products Ordered: 1\n",
      "Percentage of Products Ordered: 5.0 %\n"
     ]
    }
   ],
   "source": [
    "# I'm stuck here, I need to separate the calculate and print functions  \n",
    "\n",
    "def calculate_order_statistics(customer_orders,products):\n",
    "    total_number = len(customer_orders)\n",
    "    total_inventory = sum(calc_inventory.values())\n",
    "    order_status = (total_number / total_inventory * 100)\n",
    "    percentage_ordered = order_status\n",
    "    print(\"\\nOrder Statistics:\")\n",
    "    print(f\"Total Products Ordered:\", total_number)\n",
    "    print(f\"Percentage of Products Ordered:\", percentage_ordered, \"%\")\n",
    "\n",
    "print_order_statistics = calculate_order_statistics(customer_orders,products)"
   ]
  },
  {
   "cell_type": "code",
   "execution_count": 98,
   "id": "086777e0-3d1e-43d2-b1d9-d16b29800ef5",
   "metadata": {},
   "outputs": [],
   "source": [
    "def print_order_statistics(order_statistics):\n",
    "   \n",
    "\n",
    "print_order_statistics = calculate_order_statistics(customer_orders,products)\n",
    "\n"
   ]
  },
  {
   "cell_type": "code",
   "execution_count": null,
   "id": "4b91beea-6a90-496e-9e8b-b15a9aa2c766",
   "metadata": {},
   "outputs": [],
   "source": [
    "total_number = len(customer_orders)\n",
    "total_inventory = sum(inventory.values())\n",
    "order_status = (total_number / total_inventory * 100)\n",
    "percentage_ordered = order_status\n",
    "print(\"\\nOrder Statistics:\")\n",
    "print(f\"Total Products Ordered:\", total_number)\n",
    "print(f\"Percentage of Products Ordered:\", percentage_ordered, \"%\")\n",
    "\n",
    "print(\"\\nRemaining inventory\")\n",
    "print(\"\\n\")\n",
    "\n",
    "for product in products:\n",
    "    print(f\"{product}: {inventory.get(product)}\")"
   ]
  },
  {
   "cell_type": "code",
   "execution_count": null,
   "id": "128f901e-6bdf-4589-8611-c8bf96a80d01",
   "metadata": {},
   "outputs": [],
   "source": []
  }
 ],
 "metadata": {
  "kernelspec": {
   "display_name": "Python [conda env:base] *",
   "language": "python",
   "name": "conda-base-py"
  },
  "language_info": {
   "codemirror_mode": {
    "name": "ipython",
    "version": 3
   },
   "file_extension": ".py",
   "mimetype": "text/x-python",
   "name": "python",
   "nbconvert_exporter": "python",
   "pygments_lexer": "ipython3",
   "version": "3.12.7"
  }
 },
 "nbformat": 4,
 "nbformat_minor": 5
}
